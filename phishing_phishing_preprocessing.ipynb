{
  "nbformat": 4,
  "nbformat_minor": 0,
  "metadata": {
    "colab": {
      "name": "phishing phishing_preprocessing.ipynb",
      "provenance": [],
      "collapsed_sections": [],
      "authorship_tag": "ABX9TyPAfDC5d9QlXAMTR1yRS/Yn",
      "include_colab_link": true
    },
    "kernelspec": {
      "name": "python3",
      "display_name": "Python 3"
    },
    "language_info": {
      "name": "python"
    }
  },
  "cells": [
    {
      "cell_type": "markdown",
      "metadata": {
        "id": "view-in-github",
        "colab_type": "text"
      },
      "source": [
        "<a href=\"https://colab.research.google.com/github/nanometre380/Phshing_fishing/blob/main/phishing_phishing_preprocessing.ipynb\" target=\"_parent\"><img src=\"https://colab.research.google.com/assets/colab-badge.svg\" alt=\"Open In Colab\"/></a>"
      ]
    },
    {
      "cell_type": "code",
      "metadata": {
        "id": "kafSW-WqGiXg",
        "colab": {
          "base_uri": "https://localhost:8080/"
        },
        "outputId": "dd8d1536-c012-4f7e-d331-4246111fc5f0"
      },
      "source": [
        "from google.colab import drive\n",
        "drive.mount('/content/drive')"
      ],
      "execution_count": null,
      "outputs": [
        {
          "output_type": "stream",
          "text": [
            "Mounted at /content/drive\n"
          ],
          "name": "stdout"
        }
      ]
    },
    {
      "cell_type": "code",
      "metadata": {
        "id": "779tvVQ6heUG"
      },
      "source": [
        "import pandas as pd\n",
        "import numpy as np"
      ],
      "execution_count": null,
      "outputs": []
    },
    {
      "cell_type": "code",
      "metadata": {
        "colab": {
          "base_uri": "https://localhost:8080/",
          "height": 204
        },
        "id": "oRg9QgNfhjVu",
        "outputId": "3482942c-9c78-4364-e8a9-071eb9ef8532"
      },
      "source": [
        "data = pd.read_csv('/content/drive/My Drive/E-pro/phishing/verified_online_2.csv')\n",
        "\n",
        "data.head()"
      ],
      "execution_count": null,
      "outputs": [
        {
          "output_type": "execute_result",
          "data": {
            "text/html": [
              "<div>\n",
              "<style scoped>\n",
              "    .dataframe tbody tr th:only-of-type {\n",
              "        vertical-align: middle;\n",
              "    }\n",
              "\n",
              "    .dataframe tbody tr th {\n",
              "        vertical-align: top;\n",
              "    }\n",
              "\n",
              "    .dataframe thead th {\n",
              "        text-align: right;\n",
              "    }\n",
              "</style>\n",
              "<table border=\"1\" class=\"dataframe\">\n",
              "  <thead>\n",
              "    <tr style=\"text-align: right;\">\n",
              "      <th></th>\n",
              "      <th>phish_id</th>\n",
              "      <th>url</th>\n",
              "      <th>phish_detail_url</th>\n",
              "      <th>submission_time</th>\n",
              "      <th>verified</th>\n",
              "      <th>verification_time</th>\n",
              "      <th>online</th>\n",
              "      <th>target</th>\n",
              "    </tr>\n",
              "  </thead>\n",
              "  <tbody>\n",
              "    <tr>\n",
              "      <th>0</th>\n",
              "      <td>7234051</td>\n",
              "      <td>http://seguridadar7912.byethost9.com/pase.php</td>\n",
              "      <td>http://www.phishtank.com/phish_detail.php?phis...</td>\n",
              "      <td>2021-07-19T04:06:30+00:00</td>\n",
              "      <td>yes</td>\n",
              "      <td>2021-07-19T04:15:44+00:00</td>\n",
              "      <td>yes</td>\n",
              "      <td>Other</td>\n",
              "    </tr>\n",
              "    <tr>\n",
              "      <th>1</th>\n",
              "      <td>7234046</td>\n",
              "      <td>http://kpatacusot.com/first/mazon/amazon/homep...</td>\n",
              "      <td>http://www.phishtank.com/phish_detail.php?phis...</td>\n",
              "      <td>2021-07-19T04:00:33+00:00</td>\n",
              "      <td>yes</td>\n",
              "      <td>2021-07-19T04:06:20+00:00</td>\n",
              "      <td>yes</td>\n",
              "      <td>Other</td>\n",
              "    </tr>\n",
              "    <tr>\n",
              "      <th>2</th>\n",
              "      <td>7234045</td>\n",
              "      <td>http://kpatacusot.com/first/mazon/f7404/</td>\n",
              "      <td>http://www.phishtank.com/phish_detail.php?phis...</td>\n",
              "      <td>2021-07-19T04:00:30+00:00</td>\n",
              "      <td>yes</td>\n",
              "      <td>2021-07-19T04:06:20+00:00</td>\n",
              "      <td>yes</td>\n",
              "      <td>Other</td>\n",
              "    </tr>\n",
              "    <tr>\n",
              "      <th>3</th>\n",
              "      <td>7234044</td>\n",
              "      <td>https://hufschuh.app/online.americanexpress.com</td>\n",
              "      <td>http://www.phishtank.com/phish_detail.php?phis...</td>\n",
              "      <td>2021-07-19T04:00:25+00:00</td>\n",
              "      <td>yes</td>\n",
              "      <td>2021-07-19T04:06:20+00:00</td>\n",
              "      <td>yes</td>\n",
              "      <td>Other</td>\n",
              "    </tr>\n",
              "    <tr>\n",
              "      <th>4</th>\n",
              "      <td>7234043</td>\n",
              "      <td>http://kpatacusot.com/first/mazon/amazon/</td>\n",
              "      <td>http://www.phishtank.com/phish_detail.php?phis...</td>\n",
              "      <td>2021-07-19T04:00:20+00:00</td>\n",
              "      <td>yes</td>\n",
              "      <td>2021-07-19T04:06:20+00:00</td>\n",
              "      <td>yes</td>\n",
              "      <td>Other</td>\n",
              "    </tr>\n",
              "  </tbody>\n",
              "</table>\n",
              "</div>"
            ],
            "text/plain": [
              "   phish_id                                                url  ... online target\n",
              "0   7234051      http://seguridadar7912.byethost9.com/pase.php  ...    yes  Other\n",
              "1   7234046  http://kpatacusot.com/first/mazon/amazon/homep...  ...    yes  Other\n",
              "2   7234045           http://kpatacusot.com/first/mazon/f7404/  ...    yes  Other\n",
              "3   7234044    https://hufschuh.app/online.americanexpress.com  ...    yes  Other\n",
              "4   7234043          http://kpatacusot.com/first/mazon/amazon/  ...    yes  Other\n",
              "\n",
              "[5 rows x 8 columns]"
            ]
          },
          "metadata": {
            "tags": []
          },
          "execution_count": 34
        }
      ]
    },
    {
      "cell_type": "code",
      "metadata": {
        "colab": {
          "base_uri": "https://localhost:8080/"
        },
        "id": "yL67fEBOiQnI",
        "outputId": "8cb54711-5911-4ce2-e803-e9b0f21207a8"
      },
      "source": [
        "data = data['url']\n",
        "data.head()"
      ],
      "execution_count": null,
      "outputs": [
        {
          "output_type": "execute_result",
          "data": {
            "text/plain": [
              "0        http://seguridadar7912.byethost9.com/pase.php\n",
              "1    http://kpatacusot.com/first/mazon/amazon/homep...\n",
              "2             http://kpatacusot.com/first/mazon/f7404/\n",
              "3      https://hufschuh.app/online.americanexpress.com\n",
              "4            http://kpatacusot.com/first/mazon/amazon/\n",
              "Name: url, dtype: object"
            ]
          },
          "metadata": {
            "tags": []
          },
          "execution_count": 35
        }
      ]
    },
    {
      "cell_type": "code",
      "metadata": {
        "colab": {
          "base_uri": "https://localhost:8080/"
        },
        "id": "JjPTxKlMknXJ",
        "outputId": "2063cc94-6925-4d04-926e-71f70f75280d"
      },
      "source": [
        "data.index"
      ],
      "execution_count": null,
      "outputs": [
        {
          "output_type": "execute_result",
          "data": {
            "text/plain": [
              "RangeIndex(start=0, stop=118, step=1)"
            ]
          },
          "metadata": {
            "tags": []
          },
          "execution_count": 36
        }
      ]
    },
    {
      "cell_type": "code",
      "metadata": {
        "id": "8Xt1X-mfktAf",
        "colab": {
          "base_uri": "https://localhost:8080/"
        },
        "outputId": "25ce416e-1966-4d49-93e7-62a3c2c4458c"
      },
      "source": [
        "for i in data.index:\n",
        "  print(data.iloc[i])"
      ],
      "execution_count": null,
      "outputs": [
        {
          "output_type": "stream",
          "text": [
            "http://seguridadar7912.byethost9.com/pase.php\n",
            "http://kpatacusot.com/first/mazon/amazon/homepage/\n",
            "http://kpatacusot.com/first/mazon/f7404/\n",
            "https://hufschuh.app/online.americanexpress.com\n",
            "http://kpatacusot.com/first/mazon/amazon/\n",
            "https://smbc.card0800.tokyo/mem/index\n",
            "http://smbc.card0800.tokyo/mem/index\n",
            "https://smbc.card0800.shop/mem/index\n",
            "https://smbc.card0800.me/mem/index\n",
            "https://smbc.card0800.jp/mem/index\n",
            "http://paypay-bank-co-jp.bytgbm.shop/\n",
            "https://smbc.card0800.info/mem/index\n",
            "https://smbc.card0800.design/mem/index\n",
            "https://smbc.card0800.club/mem/index\n",
            "https://smbc.card0800.asia/mem/index\n",
            "https://www.smbc.cardr.surenessapp.com/\n",
            "http://ebay.co.uk-110378893170.info/\n",
            "http://mail.chatwhatsappgroupinvitejoinnoww.duckdns.org/\n",
            "http://azrebzsc.000webhostapp.com/\n",
            "http://chatwhatsappgroupinvitejoinnow.duckdns.org/\n",
            "http://fegrgergre.000webhostapp.com/\n",
            "http://chatwhatsappgroupinvitejoinnoww.duckdns.org/\n",
            "http://agracheckkpqess.000webhostapp.com/\n",
            "http://www.ecomuseodebicorp.com/wp-includes/css/web/data/bank/au/LL1.htm\n",
            "http://wirehaired-tinted-august.glitch.me/37fae752837fae75282b.html\n",
            "https://www.smbc.cardr.surenessapp.com/suc.php\n",
            "https://www.pst-postale.tk/comptesenligne\n",
            "https://www.pst-postale.tk/comptesenligne/51ec7d6716677f5c1919bf45ffa1d6c4/\n",
            "https://trusting-noether.172-245-154-106.plesk.page/p/6e53f\n",
            "https://trusting-noether.172-245-154-106.plesk.page/p/6e53f/\n",
            "https://sidehustlesclass.com/wellslogin/wellsfar/next.php\n",
            "https://mkooncehiway.org/IXR/affwebservices/SPID/saml2sso/old/np/mil/NFOAA_Auth/login/jsp\n",
            "http://sidehustlesclass.com/wellslogin/wellsfar/login.php?cmd=login_submit&amp;id=c6108948e4ba962e774ecda6f89acb65c6108948e4ba962e774ecda6f89acb65&amp;session=c6108948e4ba962e774ecda6f89acb65c6108948e4ba962e774ecda6f89acb65\n",
            "https://sidehustlesclass.com/wellslogin/wellsfar/login.php?cmd=login_submit&amp;id=c6108948e4ba962e774ecda6f89acb65c6108948e4ba962e774ecda6f89acb65&amp;session=c6108948e4ba962e774ecda6f89acb65c6108948e4ba962e774ecda6f89acb65\n",
            "http://service-online-signin.from-ia.com/owa.login.segura.microsoft/login.php?wa=wsignin1.0&amp;rpsnv=13&amp;ct=1557865715&amp;rver=7.0.6737.0&amp;wp=mbi_ssl&amp;wreply=https:/outlook.live.com/owa/?authredirect=true&amp;nlp=1&amp;rpscsrfstate=622be80b-4f64-ee5a-3e56-acf0e690b14f&amp;id=292841&amp;aadredir=1&amp;cbcxt=out&amp;lw=1&amp;fl=dob,flname,wld&amp;cobrandid=90015\n",
            "http://sentinals.ml/match\n",
            "http://sentinals.ml/match/\n",
            "https://conceptdominant.com/post/web/index.php?cheking=pass&amp;id=3712814\n",
            "http://procesart.com/plugins/to/TO/authorize_client_id:1h0aw69g-xzok-drxc-4cuk-wt70lhonb5d3_rbsgp6aiuehk89vqj1027ocnxw4ftmzl5yd3v1jz5xlik9r0o6p4teyhwfcngdm7qu8b23salzce6013dkjthoqa2ib94s5gnfrmu8w7pyxv?data=Y3B0Y3NAcnR0LmNvLnph\n",
            "http://my-ourtime.com/v3/privacypolicy.html\n",
            "http://my-ourtime.com/v3/login.html\n",
            "http://my-ourtime.com/v3/guidelines.html\n",
            "http://my-ourtime.com/v3/datingtips.html\n",
            "http://kpatacusot.com/first/mazon/c9dd7\n",
            "http://gowarhorse.com/comsx/index.htm\n",
            "http://geelongtrailers.com.au/agence/office\n",
            "http://geelongtrailers.com.au/agence/office/\n",
            "https://pancakeswapnet.finance/\n",
            "https://annzon-skyfc-co-jp.hgnxbdt.buzz/\n",
            "http://anazno.co.ip.znzas.shop/6iu5ae0A.php?qu54=5a8E\n",
            "http://kpatacusot.com/first/mazon/amazon/homepage\n",
            "http://kpatacusot.com/first/mazon/f7404\n",
            "http://hufschuh.app/online.americanexpress.com\n",
            "https://mkooncehiway.org/IXR/affwebservices/SPID/saml2sso/old/np/mil/NFOAA_Auth/login/jsp/que.php\n",
            "https://mkooncehiway.org/IXR/affwebservices/SPID/saml2sso/old/np/mil/NFOAA_Auth/login/jsp/fulls.php\n",
            "https://mkooncehiway.org/IXR/affwebservices/SPID/saml2sso/old/np/mil/NFOAA_Auth/login/jsp/full.php\n",
            "https://mkooncehiway.org/IXR/affwebservices/SPID/saml2sso/old/np/mil/NFOAA_Auth/login/jsp/\n",
            "http://myoffer909.000webhostapp.com/www.paypal.com/us/webapps/mpp/full-sitemap.html\n",
            "https://teste.lcloud-lnc.co/?id=pro\n",
            "https://apple.lcloud-lnc.co/?id=pro\n",
            "https://support.lcloud-lnc.co/?id=pro\n",
            "https://resgatepromopontos.com/confirmar/index.php\n",
            "https://resgatepromopontos.com/\n",
            "https://contabloqueadaevitebloqueio.com/\n",
            "https://www.pst-postale.tk/comptesenligne/b06caf14ccb1d69a45fc5b3d080f7c5c/\n",
            "https://www.pst-postale.tk/comptesenligne/\n",
            "http://www.aeon-co-jp.cc/\n",
            "http://kpatacusot.com/first/mazon/amazon\n",
            "http://animuathiei.com/audio/sharepoint.php?authlink=offb231101\n",
            "http://my-ourtime.com/v3/privacypolicy/CaliforniaPrivacyStatement.html\n",
            "http://my-ourtime.com/v3/externalsearch.html\n",
            "http://my-ourtime.com/v3/forgotpassword.html\n",
            "http://my-ourtime.com/v3/privacypolicydd9c.html\n",
            "http://my-ourtime.com/v3/security.html\n",
            "https://mail.ativartokenitaucard.pt/\n",
            "http://identifiez-vous505.yolasite.com/\n",
            "http://jpantensa-s.myvnc.com/\n",
            "https://rakuten.juexiao.net/?ips=JTQweSU0MDIxNDU0JTQwR29vS0lOT0tpb20lNDBi\n",
            "https://www.nttdocomo.jp.getsafety.xyz/\n",
            "https://www.nttdocmon.jp.familysafety.xyz/\n",
            "https://pulihkan-identitas20219.webnode.com/\n",
            "https://kureshitepcow.3utilities.com/home.html\n",
            "https://kureshitepcow.3utilities.com/?ips=JTQwaiU0MDE4MDc5JTQwS040YXhSc3lxcHclNDB\n",
            "https://knnrshitpco.servebeer.com/?ips=JTQwbCU0MDcxNzclNDA1TUkwOTJQemdWRyU0MGE=\n",
            "https://ib.nab.id-authorise.com/2c5c3f156d9a010363e6444c97abe0bd/email\n",
            "https://rakuten.carda.tokyo/l\n",
            "https://www.nttdocomo.jp.safetyr.xyz/\n",
            "http://2tlhgkk.xyz/\n",
            "https://verifica-il-tuo-accesso-online-form-log.duckdns.org/login-form-sanpaolo/portale-accedi/c805cb58726494303ef2e85c6a91f951/login/\n",
            "https://verifica-il-tuo-accesso-online-form-log.duckdns.org/login-form-sanpaolo/portale-accedi\n",
            "http://alertsuspendpagesfb.co.vu/help-support.html\n",
            "https://dev-security-service-pay2pay.pantheonsite.io/wp-admin/paypal.php\n",
            "https://www.dorkyboy.com/photoblog/templates/smokescreen/styles/js/mdddss/lmmnodejs/\n",
            "http://aonzon.co.ip.rxfeopgtx.asia/\n",
            "https://annzon-agsdci-co-jp.msgega.buzz/\n",
            "https://firebasestorage.googleapis.com/v0/b/emailserver-6b445.appspot.com/o/Shared%2FAssignments%2Fwebsite%2FG63%2FG63%20ALL%2Findex.html?alt=media&token=077a9af1-5fc3-4ab8-974a-a2274660d199#abc@abc?email=abc@abc\n",
            "https://amazon.co.jp.csphp.shop/\n",
            "https://www.amazom-jasdspen.shop/\n",
            "https://raktuen.co.jp.zjasl.com/\n",
            "https://swagruhyojana.com/swagruh_new/report/support/ch/manage/OnlinePayment.php\n",
            "https://www.ib.nab.id-authorise.com/457c3a167086a4f842d3c48fc516a63e/login/?\n",
            "https://ib.nab.id-authorise.com/13ddadc410d56a04c60fbdea8f8b1435/login/?\n",
            "https://ib.nab.id-authorise.com/2c5c3f156d9a010363e6444c97abe0bd/email/\n",
            "https://www.ib.nab.id-authorise.com/4f4aec67d462574532a5ed1d06989688/login/?\n",
            "http://ib.nab.id-authorise.com/1b5625848497d83b62b07b009ace3a0c/login/?\n",
            "https://www.aomzonz-ag.shop/\n",
            "https://rrakuten.jp.vosson.net/\n",
            "https://www.amazom-jpcrabi.shop/\n",
            "https://checkverifiedbluebadge.com/\n",
            "https://www.smbc.cardr.surenessapp.com\n",
            "https://www.aomzonz-hj.shop/\n",
            "https://agracheckkpqess.000webhostapp.com/help-support.html\n",
            "https://amazon.qunbuo.club/\n",
            "https://amazon.qunbuo.club/404.html\n",
            "https://l0gin.amaozn-japan.tk/\n",
            "https://azrebzsc.000webhostapp.com/help-o.html\n",
            "http://aonzon.co.ip.rxnkcijmi.asia/\n",
            "https://fegrgergre.000webhostapp.com/help-support.html\n"
          ],
          "name": "stdout"
        }
      ]
    },
    {
      "cell_type": "code",
      "metadata": {
        "id": "UOeBhKOwpLSw"
      },
      "source": [
        "def check_length(url) :\n",
        "  return len(url)"
      ],
      "execution_count": null,
      "outputs": []
    },
    {
      "cell_type": "code",
      "metadata": {
        "id": "I-x6K2E22lZl"
      },
      "source": [
        "def check_at(url) :\n",
        "  if '@' in url :\n",
        "    return 1\n",
        "  else :\n",
        "    return 0"
      ],
      "execution_count": null,
      "outputs": []
    },
    {
      "cell_type": "code",
      "metadata": {
        "id": "OTLEZM5t3S-t"
      },
      "source": [
        "def check_doubleslash(url) :\n",
        "  if \"//\" in url[7:] :\n",
        "    return 1\n",
        "  else :\n",
        "    return 0"
      ],
      "execution_count": null,
      "outputs": []
    },
    {
      "cell_type": "code",
      "metadata": {
        "id": "HuMp1ny44GdR"
      },
      "source": [
        "def check_http(url) :\n",
        "  if (\"http://\" in url) and (url[6] != 's') :\n",
        "    return 1\n",
        "  else :\n",
        "    return 0"
      ],
      "execution_count": null,
      "outputs": []
    },
    {
      "cell_type": "code",
      "metadata": {
        "id": "NCjn3sNO5HQj"
      },
      "source": [
        "def check_hyphen(url) :\n",
        "  if '-' in url :\n",
        "    return 1\n",
        "  else :\n",
        "    return 0"
      ],
      "execution_count": null,
      "outputs": []
    },
    {
      "cell_type": "code",
      "metadata": {
        "id": "e2AkCV_X5bac"
      },
      "source": [
        "def check_dot(url) :\n",
        "  return url.count('.')"
      ],
      "execution_count": null,
      "outputs": []
    },
    {
      "cell_type": "markdown",
      "metadata": {
        "id": "8XgKoYk15uEH"
      },
      "source": [
        ""
      ]
    },
    {
      "cell_type": "code",
      "metadata": {
        "id": "nkZIYY_CUfUD"
      },
      "source": [
        "#url = \"https://www.naver.com\""
      ],
      "execution_count": null,
      "outputs": []
    },
    {
      "cell_type": "code",
      "metadata": {
        "colab": {
          "base_uri": "https://localhost:8080/"
        },
        "id": "a9UOTMc6Uklf",
        "outputId": "9049f217-ea46-4550-eef9-c701c2a32a79"
      },
      "source": [
        "print(check_length(url))\n",
        "print(check_at(url))\n",
        "print(check_doubleslash(url))\n",
        "print(check_http(url))\n",
        "print(check_hyphen(url))\n",
        "print(check_dot(url))"
      ],
      "execution_count": null,
      "outputs": [
        {
          "output_type": "stream",
          "text": [
            "21\n",
            "0\n",
            "0\n",
            "0\n",
            "0\n",
            "2\n"
          ],
          "name": "stdout"
        }
      ]
    },
    {
      "cell_type": "code",
      "metadata": {
        "id": "jtxrBBPhVl3d"
      },
      "source": [
        "import urllib.request\n",
        "import requests\n",
        "import json\n",
        "from urllib.parse import quote\n",
        "\n",
        "def check_unshorten(url) :\n",
        "  api_url = \"https://unshorten.me/json/\"+url\n",
        "  print(api_url)\n",
        "  #request = urllib.request.Request(api_url)\n",
        "  #print(request)\n",
        "  response = requests.get(api_url)\n",
        "  print(response.status_code)\n",
        "  rescode = response.status_code\n",
        "  print(rescode)\n",
        "  if(rescode == 200) :\n",
        "    response_body = response.json()\n",
        "    success = response_body['success']\n",
        "    if success == True:\n",
        "      return response_body['resolved_url']\n",
        "    else :\n",
        "      return 0\n",
        "  return 0"
      ],
      "execution_count": null,
      "outputs": []
    },
    {
      "cell_type": "code",
      "metadata": {
        "colab": {
          "base_uri": "https://localhost:8080/",
          "height": 106
        },
        "id": "FvvdgJ8acgaZ",
        "outputId": "dd1d8e39-b537-4c10-85fb-12f8735ca734"
      },
      "source": [
        "#url = quote(\"http://bit.ly/피싱문자수집\")\n",
        "#url = \"http://\"+url\n",
        "#print(url)\n",
        "#type(url)\n",
        "#check_unshorten(url)"
      ],
      "execution_count": null,
      "outputs": [
        {
          "output_type": "stream",
          "text": [
            "http%3A//bit.ly/%ED%94%BC%EC%8B%B1%EB%AC%B8%EC%9E%90%EC%88%98%EC%A7%91\n",
            "https://unshorten.me/json/http%3A//bit.ly/%ED%94%BC%EC%8B%B1%EB%AC%B8%EC%9E%90%EC%88%98%EC%A7%91\n",
            "200\n",
            "200\n"
          ],
          "name": "stdout"
        },
        {
          "output_type": "execute_result",
          "data": {
            "application/vnd.google.colaboratory.intrinsic+json": {
              "type": "string"
            },
            "text/plain": [
              "'https://docs.google.com/forms/d/e/1FAIpQLSezaxNP5wEsoc-XJR-2byYbzjAdqtCVB9x_zgRcJdTERb3J9A/viewform?usp=send_form'"
            ]
          },
          "metadata": {
            "tags": []
          },
          "execution_count": 16
        }
      ]
    },
    {
      "cell_type": "markdown",
      "metadata": {
        "id": "scBfDgROsC3u"
      },
      "source": [
        "- URL 단축 여부 (해제 되는지 안 되는지) - API 사용하기? O\n",
        "- URL 길이 O\n",
        "- @ 여부 O\n",
        "- \n",
        "- 중간에 // 확인 O\n",
        "- IP 주소가 드러나는지 O\n",
        "- http:// 인지 (보류) O\n",
        "- ‘-‘ 있는지 O\n",
        "- 사용되는 사이트명/브랜드명 사용하는지 - alexa같은 곳에서 따와서 저장하기\n",
        "- 점 갯수 O"
      ]
    },
    {
      "cell_type": "code",
      "metadata": {
        "id": "nl792U8isALm"
      },
      "source": [
        "import ipaddress\n",
        "import re\n",
        "\n",
        "def check_ip(url) :\n",
        "  regex = re.compile('^(.*?)(?:[0-9]{1,3}\\.){3}[0-9]{1,3}(.*?)$')\n",
        "  print(regex.search(url))\n",
        "  if regex.search(url) :\n",
        "    return 1\n",
        "  else :\n",
        "    return 0"
      ],
      "execution_count": null,
      "outputs": []
    },
    {
      "cell_type": "code",
      "metadata": {
        "colab": {
          "base_uri": "https://localhost:8080/"
        },
        "id": "wpz3lrr2Uoe5",
        "outputId": "333be28a-e752-4e38-f0b7-f12cdbab9566"
      },
      "source": [
        "#url = \"http://192.173.127.13\"\n",
        "#url2 = \"http://naver.com\"\n",
        "#url3 = \"https://182.391.com\"\n",
        "#check_ip(url3)"
      ],
      "execution_count": null,
      "outputs": [
        {
          "output_type": "stream",
          "text": [
            "before\n",
            "None\n"
          ],
          "name": "stdout"
        },
        {
          "output_type": "execute_result",
          "data": {
            "text/plain": [
              "0"
            ]
          },
          "metadata": {
            "tags": []
          },
          "execution_count": 18
        }
      ]
    },
    {
      "cell_type": "code",
      "metadata": {
        "id": "6JeedDUmsB_h"
      },
      "source": [
        "from bs4 import BeautifulSoup\n",
        "\n",
        "def make_list():\n",
        "  url_list = []\n",
        "  response = requests.get('https://www.alexa.com/topsites/countries/KR')\n",
        "  html = response.text\n",
        "  soup = BeautifulSoup(html, \"html.parser\")\n",
        "  pkg_list = soup.findAll(\"div\", \"td DescriptionCell\")\n",
        "\n",
        "  for element in pkg_list:\n",
        "    title=element.findAll('a')\n",
        "    url = str(title)[str(title).find('siteinfo/')+9:str(title).find('.')]\n",
        "    url_list.append(url)\n",
        "  return url_list"
      ],
      "execution_count": null,
      "outputs": []
    },
    {
      "cell_type": "code",
      "metadata": {
        "colab": {
          "base_uri": "https://localhost:8080/"
        },
        "id": "xhGbOGVNfPPO",
        "outputId": "49778757-c3a4-4ec0-fecf-0ce39392edd1"
      },
      "source": [
        "make_list()"
      ],
      "execution_count": null,
      "outputs": [
        {
          "output_type": "execute_result",
          "data": {
            "text/plain": [
              "['google',\n",
              " 'naver',\n",
              " 'youtube',\n",
              " 'daum',\n",
              " 'tistory',\n",
              " 'kakao',\n",
              " 'tmall',\n",
              " 'google',\n",
              " 'amazon',\n",
              " 'coupang',\n",
              " 'netflix',\n",
              " 'facebook',\n",
              " 'sohu',\n",
              " 'namu',\n",
              " 'qq',\n",
              " 'wikipedia',\n",
              " 'taobao',\n",
              " '360',\n",
              " 'jd',\n",
              " 'microsoft',\n",
              " 'baidu',\n",
              " 'instagram',\n",
              " 'dcinside',\n",
              " 'yahoo',\n",
              " 'adobe',\n",
              " 'twitch',\n",
              " 'zoom',\n",
              " '11st',\n",
              " 'nate',\n",
              " 'donga',\n",
              " 'office',\n",
              " 'danawa',\n",
              " 'gmarket',\n",
              " 'weibo',\n",
              " 'apple',\n",
              " 'fmkorea',\n",
              " 'sina',\n",
              " 'chosun',\n",
              " 'ebay',\n",
              " 'saramin',\n",
              " 'inven',\n",
              " 'afreecatv',\n",
              " 'dropbox',\n",
              " 'aliexpress',\n",
              " 'bing',\n",
              " 'auction',\n",
              " 'nicovideo',\n",
              " 'jobkorea',\n",
              " 'yahoo',\n",
              " 'stackoverflow']"
            ]
          },
          "metadata": {
            "tags": []
          },
          "execution_count": 20
        }
      ]
    },
    {
      "cell_type": "code",
      "metadata": {
        "id": "i9O634L7fqF5"
      },
      "source": [
        "def check_brand(url) :\n",
        "  url_list = make_list()\n",
        "  for element in url_list :\n",
        "    if element in url :\n",
        "      return 1\n",
        "    else :\n",
        "      continue\n",
        "  return 0"
      ],
      "execution_count": null,
      "outputs": []
    },
    {
      "cell_type": "code",
      "metadata": {
        "colab": {
          "base_uri": "https://localhost:8080/"
        },
        "id": "0RxdG2obg7ve",
        "outputId": "52c3aa50-6db1-4ab0-fea6-d156da3e9a1a"
      },
      "source": [
        "#url = \"www.hi_naver.com\"\n",
        "#check_brand(url)"
      ],
      "execution_count": null,
      "outputs": [
        {
          "output_type": "execute_result",
          "data": {
            "text/plain": [
              "1"
            ]
          },
          "metadata": {
            "tags": []
          },
          "execution_count": 22
        }
      ]
    },
    {
      "cell_type": "code",
      "metadata": {
        "colab": {
          "base_uri": "https://localhost:8080/"
        },
        "id": "G3cOTJNOh16y",
        "outputId": "ea4ce59e-134c-4edd-d968-13847a206df9"
      },
      "source": [
        "unshorten = []\n",
        "length = []\n",
        "at = []\n",
        "double_slash = []\n",
        "http = []\n",
        "hyphen = []\n",
        "dot = []\n",
        "ip_form = []\n",
        "brand = []\n",
        "\n",
        "for url in data :\n",
        "  resolved = check_unshorten(quote(url))\n",
        "  unshorten.append(resolved)\n",
        "  if resolved :\n",
        "    url = resolved\n",
        "  length.append(check_length(url))\n",
        "  at.append(check_at(url))\n",
        "  double_slash.append(check_doubleslash(url))\n",
        "  http.append(check_http(url))\n",
        "  hyphen.append(check_hyphen(url))\n",
        "  dot.append(check_dot(url))\n",
        "  ip_form.append(check_ip(url))\n",
        "  brand.append(check_brand(url))\n",
        "\n"
      ],
      "execution_count": null,
      "outputs": [
        {
          "output_type": "stream",
          "text": [
            "https://unshorten.me/json/http%3A//seguridadar7912.byethost9.com/pase.php\n",
            "200\n",
            "200\n",
            "before\n",
            "None\n",
            "https://unshorten.me/json/http%3A//kpatacusot.com/first/mazon/amazon/homepage/\n",
            "200\n",
            "200\n",
            "before\n",
            "None\n",
            "https://unshorten.me/json/http%3A//kpatacusot.com/first/mazon/f7404/\n",
            "200\n",
            "200\n",
            "before\n",
            "None\n",
            "https://unshorten.me/json/https%3A//hufschuh.app/online.americanexpress.com\n",
            "200\n",
            "200\n",
            "before\n",
            "None\n",
            "https://unshorten.me/json/http%3A//kpatacusot.com/first/mazon/amazon/\n",
            "200\n",
            "200\n",
            "before\n",
            "None\n",
            "https://unshorten.me/json/https%3A//smbc.card0800.tokyo/mem/index\n",
            "200\n",
            "200\n",
            "before\n",
            "None\n",
            "https://unshorten.me/json/http%3A//smbc.card0800.tokyo/mem/index\n",
            "200\n",
            "200\n",
            "before\n",
            "None\n",
            "https://unshorten.me/json/https%3A//smbc.card0800.shop/mem/index\n",
            "200\n",
            "200\n",
            "before\n",
            "None\n",
            "https://unshorten.me/json/https%3A//smbc.card0800.me/mem/index\n",
            "200\n",
            "200\n",
            "before\n",
            "None\n",
            "https://unshorten.me/json/https%3A//smbc.card0800.jp/mem/index\n",
            "200\n",
            "200\n",
            "before\n",
            "None\n",
            "https://unshorten.me/json/http%3A//paypay-bank-co-jp.bytgbm.shop/\n",
            "200\n",
            "200\n",
            "before\n",
            "None\n",
            "https://unshorten.me/json/https%3A//smbc.card0800.info/mem/index\n",
            "200\n",
            "200\n",
            "before\n",
            "None\n",
            "https://unshorten.me/json/https%3A//smbc.card0800.design/mem/index\n",
            "200\n",
            "200\n",
            "before\n",
            "None\n",
            "https://unshorten.me/json/https%3A//smbc.card0800.club/mem/index\n",
            "200\n",
            "200\n",
            "before\n",
            "None\n",
            "https://unshorten.me/json/https%3A//smbc.card0800.asia/mem/index\n",
            "200\n",
            "200\n",
            "before\n",
            "None\n",
            "https://unshorten.me/json/https%3A//www.smbc.cardr.surenessapp.com/\n",
            "200\n",
            "200\n",
            "before\n",
            "None\n",
            "https://unshorten.me/json/http%3A//ebay.co.uk-110378893170.info/\n",
            "200\n",
            "200\n",
            "before\n",
            "None\n",
            "https://unshorten.me/json/http%3A//mail.chatwhatsappgroupinvitejoinnoww.duckdns.org/\n",
            "200\n",
            "200\n",
            "before\n",
            "None\n",
            "https://unshorten.me/json/http%3A//azrebzsc.000webhostapp.com/\n",
            "200\n",
            "200\n",
            "before\n",
            "None\n",
            "https://unshorten.me/json/http%3A//chatwhatsappgroupinvitejoinnow.duckdns.org/\n",
            "200\n",
            "200\n",
            "before\n",
            "None\n",
            "https://unshorten.me/json/http%3A//fegrgergre.000webhostapp.com/\n",
            "200\n",
            "200\n",
            "before\n",
            "None\n",
            "https://unshorten.me/json/http%3A//chatwhatsappgroupinvitejoinnoww.duckdns.org/\n",
            "200\n",
            "200\n",
            "before\n",
            "None\n",
            "https://unshorten.me/json/http%3A//agracheckkpqess.000webhostapp.com/\n",
            "200\n",
            "200\n",
            "before\n",
            "None\n",
            "https://unshorten.me/json/http%3A//www.ecomuseodebicorp.com/wp-includes/css/web/data/bank/au/LL1.htm\n",
            "200\n",
            "200\n",
            "before\n",
            "None\n",
            "https://unshorten.me/json/http%3A//wirehaired-tinted-august.glitch.me/37fae752837fae75282b.html\n",
            "200\n",
            "200\n",
            "before\n",
            "None\n",
            "https://unshorten.me/json/https%3A//www.smbc.cardr.surenessapp.com/suc.php\n",
            "200\n",
            "200\n",
            "before\n",
            "None\n",
            "https://unshorten.me/json/https%3A//www.pst-postale.tk/comptesenligne\n",
            "200\n",
            "200\n",
            "before\n",
            "None\n",
            "https://unshorten.me/json/https%3A//www.pst-postale.tk/comptesenligne/51ec7d6716677f5c1919bf45ffa1d6c4/\n",
            "200\n",
            "200\n",
            "before\n",
            "None\n",
            "https://unshorten.me/json/https%3A//trusting-noether.172-245-154-106.plesk.page/p/6e53f\n",
            "200\n",
            "200\n",
            "before\n",
            "None\n",
            "https://unshorten.me/json/https%3A//trusting-noether.172-245-154-106.plesk.page/p/6e53f/\n",
            "200\n",
            "200\n",
            "before\n",
            "None\n",
            "https://unshorten.me/json/https%3A//sidehustlesclass.com/wellslogin/wellsfar/next.php\n",
            "200\n",
            "200\n",
            "before\n",
            "None\n",
            "https://unshorten.me/json/https%3A//mkooncehiway.org/IXR/affwebservices/SPID/saml2sso/old/np/mil/NFOAA_Auth/login/jsp\n",
            "200\n",
            "200\n",
            "before\n",
            "None\n",
            "https://unshorten.me/json/http%3A//sidehustlesclass.com/wellslogin/wellsfar/login.php%3Fcmd%3Dlogin_submit%26amp%3Bid%3Dc6108948e4ba962e774ecda6f89acb65c6108948e4ba962e774ecda6f89acb65%26amp%3Bsession%3Dc6108948e4ba962e774ecda6f89acb65c6108948e4ba962e774ecda6f89acb65\n",
            "200\n",
            "200\n",
            "before\n",
            "None\n",
            "https://unshorten.me/json/https%3A//sidehustlesclass.com/wellslogin/wellsfar/login.php%3Fcmd%3Dlogin_submit%26amp%3Bid%3Dc6108948e4ba962e774ecda6f89acb65c6108948e4ba962e774ecda6f89acb65%26amp%3Bsession%3Dc6108948e4ba962e774ecda6f89acb65c6108948e4ba962e774ecda6f89acb65\n",
            "200\n",
            "200\n",
            "before\n",
            "None\n",
            "https://unshorten.me/json/http%3A//service-online-signin.from-ia.com/owa.login.segura.microsoft/login.php%3Fwa%3Dwsignin1.0%26amp%3Brpsnv%3D13%26amp%3Bct%3D1557865715%26amp%3Brver%3D7.0.6737.0%26amp%3Bwp%3Dmbi_ssl%26amp%3Bwreply%3Dhttps%3A/outlook.live.com/owa/%3Fauthredirect%3Dtrue%26amp%3Bnlp%3D1%26amp%3Brpscsrfstate%3D622be80b-4f64-ee5a-3e56-acf0e690b14f%26amp%3Bid%3D292841%26amp%3Baadredir%3D1%26amp%3Bcbcxt%3Dout%26amp%3Blw%3D1%26amp%3Bfl%3Ddob%2Cflname%2Cwld%26amp%3Bcobrandid%3D90015\n",
            "200\n",
            "200\n",
            "before\n",
            "None\n",
            "https://unshorten.me/json/http%3A//sentinals.ml/match\n",
            "200\n",
            "200\n",
            "before\n",
            "None\n",
            "https://unshorten.me/json/http%3A//sentinals.ml/match/\n",
            "200\n",
            "200\n",
            "before\n",
            "None\n",
            "https://unshorten.me/json/https%3A//conceptdominant.com/post/web/index.php%3Fcheking%3Dpass%26amp%3Bid%3D3712814\n",
            "200\n",
            "200\n",
            "before\n",
            "None\n",
            "https://unshorten.me/json/http%3A//procesart.com/plugins/to/TO/authorize_client_id%3A1h0aw69g-xzok-drxc-4cuk-wt70lhonb5d3_rbsgp6aiuehk89vqj1027ocnxw4ftmzl5yd3v1jz5xlik9r0o6p4teyhwfcngdm7qu8b23salzce6013dkjthoqa2ib94s5gnfrmu8w7pyxv%3Fdata%3DY3B0Y3NAcnR0LmNvLnph\n",
            "200\n",
            "200\n",
            "before\n",
            "None\n",
            "https://unshorten.me/json/http%3A//my-ourtime.com/v3/privacypolicy.html\n",
            "200\n",
            "200\n",
            "before\n",
            "None\n",
            "https://unshorten.me/json/http%3A//my-ourtime.com/v3/login.html\n",
            "200\n",
            "200\n",
            "before\n",
            "None\n",
            "https://unshorten.me/json/http%3A//my-ourtime.com/v3/guidelines.html\n",
            "200\n",
            "200\n",
            "before\n",
            "None\n",
            "https://unshorten.me/json/http%3A//my-ourtime.com/v3/datingtips.html\n",
            "200\n",
            "200\n",
            "before\n",
            "None\n",
            "https://unshorten.me/json/http%3A//kpatacusot.com/first/mazon/c9dd7\n",
            "200\n",
            "200\n",
            "before\n",
            "None\n",
            "https://unshorten.me/json/http%3A//gowarhorse.com/comsx/index.htm\n",
            "200\n",
            "200\n",
            "before\n",
            "None\n",
            "https://unshorten.me/json/http%3A//geelongtrailers.com.au/agence/office\n",
            "200\n",
            "200\n",
            "before\n",
            "None\n",
            "https://unshorten.me/json/http%3A//geelongtrailers.com.au/agence/office/\n",
            "200\n",
            "200\n",
            "before\n",
            "None\n",
            "https://unshorten.me/json/https%3A//pancakeswapnet.finance/\n",
            "200\n",
            "200\n",
            "before\n",
            "None\n",
            "https://unshorten.me/json/https%3A//annzon-skyfc-co-jp.hgnxbdt.buzz/\n",
            "200\n",
            "200\n",
            "before\n",
            "None\n",
            "https://unshorten.me/json/http%3A//anazno.co.ip.znzas.shop/6iu5ae0A.php%3Fqu54%3D5a8E\n",
            "200\n",
            "200\n",
            "before\n",
            "None\n",
            "https://unshorten.me/json/http%3A//kpatacusot.com/first/mazon/amazon/homepage\n",
            "200\n",
            "200\n",
            "before\n",
            "None\n",
            "https://unshorten.me/json/http%3A//kpatacusot.com/first/mazon/f7404\n",
            "200\n",
            "200\n",
            "before\n",
            "None\n",
            "https://unshorten.me/json/http%3A//hufschuh.app/online.americanexpress.com\n",
            "200\n",
            "200\n",
            "before\n",
            "None\n",
            "https://unshorten.me/json/https%3A//mkooncehiway.org/IXR/affwebservices/SPID/saml2sso/old/np/mil/NFOAA_Auth/login/jsp/que.php\n",
            "200\n",
            "200\n",
            "before\n",
            "None\n",
            "https://unshorten.me/json/https%3A//mkooncehiway.org/IXR/affwebservices/SPID/saml2sso/old/np/mil/NFOAA_Auth/login/jsp/fulls.php\n",
            "200\n",
            "200\n",
            "before\n",
            "None\n",
            "https://unshorten.me/json/https%3A//mkooncehiway.org/IXR/affwebservices/SPID/saml2sso/old/np/mil/NFOAA_Auth/login/jsp/full.php\n",
            "200\n",
            "200\n",
            "before\n",
            "None\n",
            "https://unshorten.me/json/https%3A//mkooncehiway.org/IXR/affwebservices/SPID/saml2sso/old/np/mil/NFOAA_Auth/login/jsp/\n",
            "200\n",
            "200\n",
            "before\n",
            "None\n",
            "https://unshorten.me/json/http%3A//myoffer909.000webhostapp.com/www.paypal.com/us/webapps/mpp/full-sitemap.html\n",
            "200\n",
            "200\n",
            "before\n",
            "None\n",
            "https://unshorten.me/json/https%3A//teste.lcloud-lnc.co/%3Fid%3Dpro\n",
            "200\n",
            "200\n",
            "before\n",
            "None\n",
            "https://unshorten.me/json/https%3A//apple.lcloud-lnc.co/%3Fid%3Dpro\n",
            "200\n",
            "200\n",
            "before\n",
            "None\n",
            "https://unshorten.me/json/https%3A//support.lcloud-lnc.co/%3Fid%3Dpro\n",
            "200\n",
            "200\n",
            "before\n",
            "None\n",
            "https://unshorten.me/json/https%3A//resgatepromopontos.com/confirmar/index.php\n",
            "200\n",
            "200\n",
            "before\n",
            "None\n",
            "https://unshorten.me/json/https%3A//resgatepromopontos.com/\n",
            "200\n",
            "200\n",
            "before\n",
            "None\n",
            "https://unshorten.me/json/https%3A//contabloqueadaevitebloqueio.com/\n",
            "200\n",
            "200\n",
            "before\n",
            "None\n",
            "https://unshorten.me/json/https%3A//www.pst-postale.tk/comptesenligne/b06caf14ccb1d69a45fc5b3d080f7c5c/\n",
            "200\n",
            "200\n",
            "before\n",
            "None\n",
            "https://unshorten.me/json/https%3A//www.pst-postale.tk/comptesenligne/\n",
            "200\n",
            "200\n",
            "before\n",
            "None\n",
            "https://unshorten.me/json/http%3A//www.aeon-co-jp.cc/\n",
            "200\n",
            "200\n",
            "before\n",
            "None\n",
            "https://unshorten.me/json/http%3A//kpatacusot.com/first/mazon/amazon\n",
            "200\n",
            "200\n",
            "before\n",
            "None\n",
            "https://unshorten.me/json/http%3A//animuathiei.com/audio/sharepoint.php%3Fauthlink%3Doffb231101\n",
            "200\n",
            "200\n",
            "before\n",
            "None\n",
            "https://unshorten.me/json/http%3A//my-ourtime.com/v3/privacypolicy/CaliforniaPrivacyStatement.html\n",
            "200\n",
            "200\n",
            "before\n",
            "None\n",
            "https://unshorten.me/json/http%3A//my-ourtime.com/v3/externalsearch.html\n",
            "200\n",
            "200\n",
            "before\n",
            "None\n",
            "https://unshorten.me/json/http%3A//my-ourtime.com/v3/forgotpassword.html\n",
            "200\n",
            "200\n",
            "before\n",
            "None\n",
            "https://unshorten.me/json/http%3A//my-ourtime.com/v3/privacypolicydd9c.html\n",
            "200\n",
            "200\n",
            "before\n",
            "None\n",
            "https://unshorten.me/json/http%3A//my-ourtime.com/v3/security.html\n",
            "200\n",
            "200\n",
            "before\n",
            "None\n",
            "https://unshorten.me/json/https%3A//mail.ativartokenitaucard.pt/\n",
            "200\n",
            "200\n",
            "before\n",
            "None\n",
            "https://unshorten.me/json/http%3A//identifiez-vous505.yolasite.com/\n",
            "200\n",
            "200\n",
            "before\n",
            "None\n",
            "https://unshorten.me/json/http%3A//jpantensa-s.myvnc.com/\n",
            "200\n",
            "200\n",
            "before\n",
            "None\n",
            "https://unshorten.me/json/https%3A//rakuten.juexiao.net/%3Fips%3DJTQweSU0MDIxNDU0JTQwR29vS0lOT0tpb20lNDBi\n",
            "200\n",
            "200\n",
            "before\n",
            "None\n",
            "https://unshorten.me/json/https%3A//www.nttdocomo.jp.getsafety.xyz/\n",
            "200\n",
            "200\n",
            "before\n",
            "None\n",
            "https://unshorten.me/json/https%3A//www.nttdocmon.jp.familysafety.xyz/\n",
            "200\n",
            "200\n",
            "before\n",
            "None\n",
            "https://unshorten.me/json/https%3A//pulihkan-identitas20219.webnode.com/\n",
            "200\n",
            "200\n",
            "before\n",
            "None\n",
            "https://unshorten.me/json/https%3A//kureshitepcow.3utilities.com/home.html\n",
            "200\n",
            "200\n",
            "before\n",
            "None\n",
            "https://unshorten.me/json/https%3A//kureshitepcow.3utilities.com/%3Fips%3DJTQwaiU0MDE4MDc5JTQwS040YXhSc3lxcHclNDB\n",
            "200\n",
            "200\n",
            "before\n",
            "None\n",
            "https://unshorten.me/json/https%3A//knnrshitpco.servebeer.com/%3Fips%3DJTQwbCU0MDcxNzclNDA1TUkwOTJQemdWRyU0MGE%3D\n",
            "200\n",
            "200\n",
            "before\n",
            "None\n",
            "https://unshorten.me/json/https%3A//ib.nab.id-authorise.com/2c5c3f156d9a010363e6444c97abe0bd/email\n",
            "200\n",
            "200\n",
            "before\n",
            "None\n",
            "https://unshorten.me/json/https%3A//rakuten.carda.tokyo/l\n",
            "200\n",
            "200\n",
            "before\n",
            "None\n",
            "https://unshorten.me/json/https%3A//www.nttdocomo.jp.safetyr.xyz/\n",
            "200\n",
            "200\n",
            "before\n",
            "None\n",
            "https://unshorten.me/json/http%3A//2tlhgkk.xyz/\n",
            "200\n",
            "200\n",
            "before\n",
            "None\n",
            "https://unshorten.me/json/https%3A//verifica-il-tuo-accesso-online-form-log.duckdns.org/login-form-sanpaolo/portale-accedi/c805cb58726494303ef2e85c6a91f951/login/\n",
            "200\n",
            "200\n",
            "before\n",
            "None\n",
            "https://unshorten.me/json/https%3A//verifica-il-tuo-accesso-online-form-log.duckdns.org/login-form-sanpaolo/portale-accedi\n",
            "200\n",
            "200\n",
            "before\n",
            "None\n",
            "https://unshorten.me/json/http%3A//alertsuspendpagesfb.co.vu/help-support.html\n",
            "200\n",
            "200\n",
            "before\n",
            "None\n",
            "https://unshorten.me/json/https%3A//dev-security-service-pay2pay.pantheonsite.io/wp-admin/paypal.php\n",
            "200\n",
            "200\n",
            "before\n",
            "None\n",
            "https://unshorten.me/json/https%3A//www.dorkyboy.com/photoblog/templates/smokescreen/styles/js/mdddss/lmmnodejs/\n",
            "200\n",
            "200\n",
            "before\n",
            "None\n",
            "https://unshorten.me/json/http%3A//aonzon.co.ip.rxfeopgtx.asia/\n",
            "200\n",
            "200\n",
            "before\n",
            "None\n",
            "https://unshorten.me/json/https%3A//annzon-agsdci-co-jp.msgega.buzz/\n",
            "200\n",
            "200\n",
            "before\n",
            "None\n",
            "https://unshorten.me/json/https%3A//firebasestorage.googleapis.com/v0/b/emailserver-6b445.appspot.com/o/Shared%252FAssignments%252Fwebsite%252FG63%252FG63%2520ALL%252Findex.html%3Falt%3Dmedia%26token%3D077a9af1-5fc3-4ab8-974a-a2274660d199%23abc%40abc%3Femail%3Dabc%40abc\n",
            "200\n",
            "200\n",
            "before\n",
            "None\n",
            "https://unshorten.me/json/https%3A//amazon.co.jp.csphp.shop/\n",
            "200\n",
            "200\n",
            "before\n",
            "None\n",
            "https://unshorten.me/json/https%3A//www.amazom-jasdspen.shop/\n",
            "200\n",
            "200\n",
            "before\n",
            "None\n",
            "https://unshorten.me/json/https%3A//raktuen.co.jp.zjasl.com/\n",
            "200\n",
            "200\n",
            "before\n",
            "None\n",
            "https://unshorten.me/json/https%3A//swagruhyojana.com/swagruh_new/report/support/ch/manage/OnlinePayment.php\n",
            "200\n",
            "200\n",
            "before\n",
            "None\n",
            "https://unshorten.me/json/https%3A//www.ib.nab.id-authorise.com/457c3a167086a4f842d3c48fc516a63e/login/%3F\n",
            "200\n",
            "200\n",
            "before\n",
            "None\n",
            "https://unshorten.me/json/https%3A//ib.nab.id-authorise.com/13ddadc410d56a04c60fbdea8f8b1435/login/%3F\n",
            "200\n",
            "200\n",
            "before\n",
            "None\n",
            "https://unshorten.me/json/https%3A//ib.nab.id-authorise.com/2c5c3f156d9a010363e6444c97abe0bd/email/\n",
            "200\n",
            "200\n",
            "before\n",
            "None\n",
            "https://unshorten.me/json/https%3A//www.ib.nab.id-authorise.com/4f4aec67d462574532a5ed1d06989688/login/%3F\n",
            "200\n",
            "200\n",
            "before\n",
            "None\n",
            "https://unshorten.me/json/http%3A//ib.nab.id-authorise.com/1b5625848497d83b62b07b009ace3a0c/login/%3F\n",
            "200\n",
            "200\n",
            "before\n",
            "None\n",
            "https://unshorten.me/json/https%3A//www.aomzonz-ag.shop/\n",
            "200\n",
            "200\n",
            "before\n",
            "None\n",
            "https://unshorten.me/json/https%3A//rrakuten.jp.vosson.net/\n",
            "200\n",
            "200\n",
            "before\n",
            "None\n",
            "https://unshorten.me/json/https%3A//www.amazom-jpcrabi.shop/\n",
            "200\n",
            "200\n",
            "before\n",
            "None\n",
            "https://unshorten.me/json/https%3A//checkverifiedbluebadge.com/\n",
            "200\n",
            "200\n",
            "before\n",
            "None\n",
            "https://unshorten.me/json/https%3A//www.smbc.cardr.surenessapp.com\n",
            "200\n",
            "200\n",
            "before\n",
            "None\n",
            "https://unshorten.me/json/https%3A//www.aomzonz-hj.shop/\n",
            "200\n",
            "200\n",
            "before\n",
            "None\n",
            "https://unshorten.me/json/https%3A//agracheckkpqess.000webhostapp.com/help-support.html\n",
            "200\n",
            "200\n",
            "before\n",
            "None\n",
            "https://unshorten.me/json/https%3A//amazon.qunbuo.club/\n",
            "200\n",
            "200\n",
            "before\n",
            "None\n",
            "https://unshorten.me/json/https%3A//amazon.qunbuo.club/404.html\n",
            "200\n",
            "200\n",
            "before\n",
            "None\n",
            "https://unshorten.me/json/https%3A//l0gin.amaozn-japan.tk/\n",
            "200\n",
            "200\n",
            "before\n",
            "None\n",
            "https://unshorten.me/json/https%3A//azrebzsc.000webhostapp.com/help-o.html\n",
            "200\n",
            "200\n",
            "before\n",
            "None\n",
            "https://unshorten.me/json/http%3A//aonzon.co.ip.rxnkcijmi.asia/\n",
            "200\n",
            "200\n",
            "before\n",
            "None\n",
            "https://unshorten.me/json/https%3A//fegrgergre.000webhostapp.com/help-support.html\n",
            "200\n",
            "200\n",
            "before\n",
            "None\n"
          ],
          "name": "stdout"
        }
      ]
    },
    {
      "cell_type": "code",
      "metadata": {
        "id": "Rdj7-y4woyn5"
      },
      "source": [
        "#data['unshorten'] = unshorten\n",
        "#data['length'] = length\n",
        "#data['at'] = at\n",
        "#data['double_slash'] = double_slash\n",
        "#data['http'] = http\n",
        "#data['hyphen'] = hyphen\n",
        "#data['dot'] = dot\n",
        "#data['ip_form'] = ip_form\n",
        "#data['brand'] = brand"
      ],
      "execution_count": null,
      "outputs": []
    },
    {
      "cell_type": "code",
      "metadata": {
        "id": "fCT4XJQPo5wx"
      },
      "source": [
        "pre_data = pd.DataFrame({'url':data})\n",
        "#,'unshorten':unshorten,'length':length, 'at':at, 'double_slash':double_slash, 'http':http, 'hyphen':hyphen, 'dot':dot, 'ip_form':ip_form, 'including_brand':brand\n",
        "\n",
        "pre_data['unshorten'] = unshorten\n",
        "pre_data['length'] = length\n",
        "pre_data['at'] = at\n",
        "pre_data['double_slash'] = double_slash\n",
        "pre_data['http'] = http\n",
        "pre_data['hyphen'] = hyphen\n",
        "pre_data['dot'] = dot\n",
        "pre_data['ip_form'] = ip_form\n",
        "pre_data['brand'] = brand\n",
        "\n",
        "\n"
      ],
      "execution_count": null,
      "outputs": []
    },
    {
      "cell_type": "code",
      "metadata": {
        "colab": {
          "base_uri": "https://localhost:8080/",
          "height": 204
        },
        "id": "tlCYOgVGqc_G",
        "outputId": "2c01b328-c0a5-4b9a-a517-695d3eda2c0e"
      },
      "source": [
        "pre_data.head()"
      ],
      "execution_count": null,
      "outputs": [
        {
          "output_type": "execute_result",
          "data": {
            "text/html": [
              "<div>\n",
              "<style scoped>\n",
              "    .dataframe tbody tr th:only-of-type {\n",
              "        vertical-align: middle;\n",
              "    }\n",
              "\n",
              "    .dataframe tbody tr th {\n",
              "        vertical-align: top;\n",
              "    }\n",
              "\n",
              "    .dataframe thead th {\n",
              "        text-align: right;\n",
              "    }\n",
              "</style>\n",
              "<table border=\"1\" class=\"dataframe\">\n",
              "  <thead>\n",
              "    <tr style=\"text-align: right;\">\n",
              "      <th></th>\n",
              "      <th>url</th>\n",
              "      <th>unshorten</th>\n",
              "      <th>length</th>\n",
              "      <th>at</th>\n",
              "      <th>double_slash</th>\n",
              "      <th>http</th>\n",
              "      <th>hyphen</th>\n",
              "      <th>dot</th>\n",
              "      <th>ip_form</th>\n",
              "      <th>brand</th>\n",
              "    </tr>\n",
              "  </thead>\n",
              "  <tbody>\n",
              "    <tr>\n",
              "      <th>0</th>\n",
              "      <td>http://seguridadar7912.byethost9.com/pase.php</td>\n",
              "      <td>http://seguridadar7912.byethost9.com/pase.php</td>\n",
              "      <td>45</td>\n",
              "      <td>0</td>\n",
              "      <td>0</td>\n",
              "      <td>1</td>\n",
              "      <td>0</td>\n",
              "      <td>3</td>\n",
              "      <td>0</td>\n",
              "      <td>NaN</td>\n",
              "    </tr>\n",
              "    <tr>\n",
              "      <th>1</th>\n",
              "      <td>http://kpatacusot.com/first/mazon/amazon/homep...</td>\n",
              "      <td>0</td>\n",
              "      <td>50</td>\n",
              "      <td>0</td>\n",
              "      <td>0</td>\n",
              "      <td>1</td>\n",
              "      <td>0</td>\n",
              "      <td>1</td>\n",
              "      <td>0</td>\n",
              "      <td>1.0</td>\n",
              "    </tr>\n",
              "    <tr>\n",
              "      <th>2</th>\n",
              "      <td>http://kpatacusot.com/first/mazon/f7404/</td>\n",
              "      <td>0</td>\n",
              "      <td>40</td>\n",
              "      <td>0</td>\n",
              "      <td>0</td>\n",
              "      <td>1</td>\n",
              "      <td>0</td>\n",
              "      <td>1</td>\n",
              "      <td>0</td>\n",
              "      <td>NaN</td>\n",
              "    </tr>\n",
              "    <tr>\n",
              "      <th>3</th>\n",
              "      <td>https://hufschuh.app/online.americanexpress.com</td>\n",
              "      <td>0</td>\n",
              "      <td>47</td>\n",
              "      <td>0</td>\n",
              "      <td>0</td>\n",
              "      <td>0</td>\n",
              "      <td>0</td>\n",
              "      <td>3</td>\n",
              "      <td>0</td>\n",
              "      <td>NaN</td>\n",
              "    </tr>\n",
              "    <tr>\n",
              "      <th>4</th>\n",
              "      <td>http://kpatacusot.com/first/mazon/amazon/</td>\n",
              "      <td>0</td>\n",
              "      <td>41</td>\n",
              "      <td>0</td>\n",
              "      <td>0</td>\n",
              "      <td>1</td>\n",
              "      <td>0</td>\n",
              "      <td>1</td>\n",
              "      <td>0</td>\n",
              "      <td>1.0</td>\n",
              "    </tr>\n",
              "  </tbody>\n",
              "</table>\n",
              "</div>"
            ],
            "text/plain": [
              "                                                 url  ... brand\n",
              "0      http://seguridadar7912.byethost9.com/pase.php  ...   NaN\n",
              "1  http://kpatacusot.com/first/mazon/amazon/homep...  ...   1.0\n",
              "2           http://kpatacusot.com/first/mazon/f7404/  ...   NaN\n",
              "3    https://hufschuh.app/online.americanexpress.com  ...   NaN\n",
              "4          http://kpatacusot.com/first/mazon/amazon/  ...   1.0\n",
              "\n",
              "[5 rows x 10 columns]"
            ]
          },
          "metadata": {
            "tags": []
          },
          "execution_count": 40
        }
      ]
    },
    {
      "cell_type": "code",
      "metadata": {
        "id": "E2gDaJIprTsl"
      },
      "source": [
        "pre_data.to_csv(\"/content/preprocessed_data.csv\")"
      ],
      "execution_count": null,
      "outputs": []
    }
  ]
}